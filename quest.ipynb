{
 "cells": [
  {
   "cell_type": "code",
   "execution_count": 1,
   "id": "33cb59e3-73e6-4437-8311-a1f1072f5808",
   "metadata": {
    "tags": []
   },
   "outputs": [],
   "source": [
    "import healpy as hp\n",
    "import numpy as np\n",
    "import matplotlib.pyplot as plt\n",
    "import os"
   ]
  },
  {
   "cell_type": "code",
   "execution_count": 2,
   "id": "c0696c46-333d-4b5a-b859-9ce7fc3f2598",
   "metadata": {
    "tags": []
   },
   "outputs": [],
   "source": [
    "def camb_clfile(fname, lmax=None):\n",
    "    with open(fname) as f:\n",
    "        firstline = next(f)\n",
    "    keys = [i.lower() for i in firstline.split(' ') if i.isalpha()][1:]\n",
    "    cols = np.loadtxt(fname).transpose()\n",
    "\n",
    "    ell = np.int_(cols[0])\n",
    "    if lmax is None: lmax = ell[-1]\n",
    "    assert ell[-1] >= lmax, (ell[-1], lmax)\n",
    "\n",
    "    cls = {k : np.zeros(lmax + 1, dtype=float) for k in keys}\n",
    "\n",
    "    idc = np.where(ell <= lmax) if lmax is not None else np.arange(len(ell), dtype=int) # type: ignore\n",
    "    w = lambda ell :ell * (ell + 1) / (2. * np.pi)\n",
    "    wpp = lambda ell : ell ** 2 * (ell + 1) ** 2 / (2. * np.pi)\n",
    "    wptpe = lambda ell :np.sqrt(ell.astype(float) ** 3 * (ell + 1.) ** 3) / (2. * np.pi) \n",
    "    for i, k in enumerate(keys):\n",
    "        if k == 'pp':\n",
    "            we = wpp(ell)\n",
    "        elif 'p' in k and ('e' in k or 't' in k):\n",
    "            we = wptpe(ell)\n",
    "        else:\n",
    "            we = w(ell)\n",
    "        cls[k][ell[idc]] = cols[i + 1][idc] / we[idc]\n",
    "    return cls\n",
    "\n",
    "def cli(cl):\n",
    "    ret = np.zeros_like(cl)\n",
    "    ret[np.where(cl > 0)] = 1. / cl[np.where(cl > 0)]\n",
    "    return ret\n",
    "\n",
    "def noise_map(nlep):\n",
    "    depth_p =np.array(nlep)\n",
    "    depth_i = depth_p/np.sqrt(2)\n",
    "    pix_amin2 = 4. * np.pi / float(hp.nside2npix(nside)) * (180. * 60. / np.pi) ** 2\n",
    "    \"\"\"sigma_pix_I/P is std of noise per pixel. It is an array of length\n",
    "    equal to the number of input maps.\"\"\"\n",
    "    sigma_pix_I = np.sqrt(depth_i ** 2 / pix_amin2)\n",
    "    sigma_pix_P = np.sqrt(depth_p ** 2 / pix_amin2)\n",
    "    npix = hp.nside2npix(nside)\n",
    "    noise = np.random.randn(len(depth_i), 3, npix)\n",
    "    noise[:, 0, :] *= sigma_pix_I[:, None]\n",
    "    noise[:, 1, :] *= sigma_pix_P[:, None]\n",
    "    noise[:, 2, :] *= sigma_pix_P[:, None]\n",
    "    return noise"
   ]
  },
  {
   "cell_type": "code",
   "execution_count": 3,
   "id": "8365d0d0-915d-4624-90b4-5493b7a84e56",
   "metadata": {
    "tags": []
   },
   "outputs": [],
   "source": [
    "path = '/global/cfs/cdirs/litebird/simulations/maps/lensing_project_paper/S4BIRD'\n",
    "cmbdir = os.path.join(path,'CMB_Lensed_Maps','CMB')\n",
    "massdir = os.path.join(path,'CMB_Lensed_Maps','MASS')\n",
    "spectradir = os.path.join(path,'CAMB')"
   ]
  },
  {
   "cell_type": "code",
   "execution_count": 4,
   "id": "f2fef971-cf94-42a4-8f29-93302d851a1f",
   "metadata": {
    "tags": []
   },
   "outputs": [],
   "source": [
    "cl_len = camb_clfile(os.path.join(spectradir,'BBSims_lensed_dls.dat'))\n",
    "cl_unl = camb_clfile(os.path.join(spectradir,'BBSims_scal_dls.dat'))\n",
    "cl_pot = camb_clfile(os.path.join(spectradir,'BBSims_lenspotential.dat'))"
   ]
  },
  {
   "cell_type": "code",
   "execution_count": 5,
   "id": "4787fd58-e7ad-42a7-8995-93dc2eff4a49",
   "metadata": {
    "tags": []
   },
   "outputs": [],
   "source": [
    "lmax_ivf = 2048\n",
    "lmin_ivf = 10 \n",
    "lmax_qlm = 3000 \n",
    "nside = 1024 \n",
    "nlev_p = 5\n",
    "nlev_t = nlev_p/np.sqrt(2)\n",
    "beam = 4"
   ]
  },
  {
   "cell_type": "code",
   "execution_count": 6,
   "id": "a4e32e78-b011-4913-96d3-edd07d12226e",
   "metadata": {
    "tags": []
   },
   "outputs": [],
   "source": [
    "def get_cmb(idx):\n",
    "    fname = os.path.join(cmbdir,f\"cmb_sims_{idx:04d}.fits\")\n",
    "    alms = hp.map2alm(hp.read_map(fname,(0,1,2)),lmax=lmax_ivf)\n",
    "    maps = hp.alm2map(alms,nside)\n",
    "    return maps"
   ]
  },
  {
   "cell_type": "code",
   "execution_count": 7,
   "id": "254a13b8-3502-4068-b8d8-87677e2c9ada",
   "metadata": {
    "tags": []
   },
   "outputs": [],
   "source": [
    "cmb = get_cmb(0)"
   ]
  },
  {
   "cell_type": "code",
   "execution_count": 8,
   "id": "a90a682a-9448-42f8-ba96-5d2e2bd7ef1b",
   "metadata": {
    "tags": []
   },
   "outputs": [],
   "source": [
    "noise = noise_map([nlev_p])[0]"
   ]
  },
  {
   "cell_type": "code",
   "execution_count": 9,
   "id": "da317078-31b9-4c1d-b8bc-77bc816743de",
   "metadata": {
    "tags": []
   },
   "outputs": [],
   "source": [
    "sky = hp.smoothing(cmb,fwhm=np.radians(beam/60)) + noise"
   ]
  },
  {
   "cell_type": "code",
   "execution_count": 10,
   "id": "fbbc578c-4a1f-433f-87f3-09e67de68555",
   "metadata": {
    "tags": []
   },
   "outputs": [],
   "source": [
    "bl = hp.gauss_beam(np.radians(beam/60), lmax=lmax_ivf) * hp.pixwin(nside)[:lmax_ivf + 1]\n",
    "ftl = cli(cl_len['tt'][:lmax_ivf + 1] + (nlev_t / 60. / 180. * np.pi / bl) ** 2)\n",
    "fel = cli(cl_len['ee'][:lmax_ivf + 1] + (nlev_p / 60. / 180. * np.pi / bl) ** 2)\n",
    "fbl = cli(cl_len['bb'][:lmax_ivf + 1] + (nlev_p / 60. / 180. * np.pi / bl) ** 2)\n",
    "ftl[:lmin_ivf] *= 0.\n",
    "fel[:lmin_ivf] *= 0.\n",
    "fbl[:lmin_ivf] *= 0."
   ]
  },
  {
   "cell_type": "code",
   "execution_count": 11,
   "id": "a96343c3-76a7-442d-b08b-88fc6cbadf72",
   "metadata": {
    "tags": []
   },
   "outputs": [],
   "source": [
    "def ivf_tlm(xmap,fl,bl):\n",
    "    lmax_fl = len(fl)-1\n",
    "    alm = hp.map2alm(xmap, lmax_fl, iter=0)\n",
    "    xlm = hp.almxfl(alm, fl * cli(bl[:len(ftl)]))\n",
    "    return xlm\n",
    "\n",
    "def ivf_plm(qumap,fel,fbl,bl):\n",
    "    lmax_fl = len(fel)-1\n",
    "    elm,blm = hp.map2alm_spin(qumap,2,lmax=lmax_ivf)\n",
    "    hp.almxfl(elm,fel*cli(bl[:len(fel)]),inplace=True)\n",
    "    hp.almxfl(blm,fbl*cli(bl[:len(fbl)]),inplace=True)\n",
    "    return elm,blm\n",
    "    "
   ]
  },
  {
   "cell_type": "code",
   "execution_count": 12,
   "id": "7eac824e-ee33-4520-9710-4e5f85897cc4",
   "metadata": {
    "tags": []
   },
   "outputs": [],
   "source": [
    "def wf_xlm(xlm,cl_xx):\n",
    "    return hp.almxfl(xlm, cl_xx)\n",
    "\n",
    "def gtmap(tlm,cltt):\n",
    "    wftlm = wf_xlm(tlm,cltt)\n",
    "    lmax = hp.Alm.getlmax(wftlm.size)\n",
    "    Glm = hp.almxfl(wftlm, -np.sqrt(np.arange(lmax + 1, dtype=float) * (np.arange(1, lmax + 2))))\n",
    "    return hp.alm2map_spin([Glm, np.zeros_like(Glm)], nside, 1, lmax)\n",
    "\n",
    "def gpmap(Elm_wf,Blm_wf,spin,nside):\n",
    "    assert spin in [1, 3]\n",
    "    lmax = hp.Alm.getlmax(Elm_wf.size)\n",
    "    if spin == 1:\n",
    "        fl = np.arange(2, lmax + 3, dtype=float) * (np.arange(-1, lmax))\n",
    "    elif spin == 3:\n",
    "        fl = np.arange(-2, lmax - 1, dtype=float) * (np.arange(3, lmax + 4))\n",
    "    else:\n",
    "        assert 0\n",
    "    fl[:spin] *= 0.\n",
    "    fl = np.sqrt(fl)\n",
    "    \n",
    "    return hp.alm2map_spin([hp.almxfl(Elm_wf, fl),hp.almxfl(Blm_wf, fl)], nside, spin, lmax)\n"
   ]
  },
  {
   "cell_type": "code",
   "execution_count": 13,
   "id": "e1b8653d-71f8-4471-8b5f-2f3c986320ef",
   "metadata": {
    "tags": []
   },
   "outputs": [],
   "source": [
    "def qlm_TT(tmap,ftl,bl,cltt):\n",
    "    tlm = ivf_tlm(tmap,ftl,bl)\n",
    "    tmap = hp.alm2map(tlm, nside, lmax=hp.Alm.getlmax(tlm.size))\n",
    "    G,C = gtmap(tlm,cltt)\n",
    "    G = G*tmap\n",
    "    C = C*tmap\n",
    "    G, C = hp.map2alm_spin([G, C], 1, lmax=lmax_qlm)\n",
    "    fl = - np.sqrt(np.arange(lmax_qlm + 1, dtype=float) * np.arange(1, lmax_qlm + 2))\n",
    "    hp.almxfl(G, fl, inplace=True)\n",
    "    hp.almxfl(C, fl, inplace=True)\n",
    "    return G\n",
    "\n",
    "def qlm_PP(qumap,fel,fbl,bl,clee,clbb):\n",
    "    elm,blm = ivf_plm(qumap,fel,fbl,bl)\n",
    "    fac = 0.5\n",
    "    iresQ,iresU = hp.alm2map_spin([elm * fac, blm * fac], nside, 2, hp.Alm.getlmax(elm.size))\n",
    "    elm_wf = wf_xlm(elm,clee)\n",
    "    blm_wf = wf_xlm(blm,clbb)\n",
    "    Gs, Cs = gpmap(elm_wf,blm_wf,3,nside)\n",
    "    GC = (iresQ - 1j * iresU) * (Gs + 1j * Cs)\n",
    "    Gs, Cs = gpmap(elm_wf,blm_wf,1,nside)\n",
    "    GC -= (iresQ + 1j * iresU) * (Gs - 1j * Cs)\n",
    "    del (iresQ,iresU,Gs,Cs)\n",
    "    G, C = hp.map2alm_spin([GC.real, GC.imag], 1, lmax=lmax_qlm)\n",
    "    del GC\n",
    "    fl = - np.sqrt(np.arange(lmax_qlm + 1, dtype=float) * np.arange(1, lmax_qlm + 2))\n",
    "    hp.almxfl(G, fl, inplace=True)\n",
    "    return G"
   ]
  },
  {
   "cell_type": "code",
   "execution_count": 14,
   "id": "efc83b00-eac6-4b22-b9d2-7739e39e1ec4",
   "metadata": {
    "tags": []
   },
   "outputs": [],
   "source": [
    "qlm_tt = qlm_TT(sky[0],ftl,bl,cl_len['tt'])"
   ]
  },
  {
   "cell_type": "code",
   "execution_count": 15,
   "id": "e3128949-1586-4c23-a4a1-e75b105f9994",
   "metadata": {
    "tags": []
   },
   "outputs": [],
   "source": [
    "qlm_pp = qlm_PP(sky[1:],fel,fbl,bl,cl_len['ee'],cl_len['bb'])"
   ]
  },
  {
   "cell_type": "code",
   "execution_count": 16,
   "id": "3bd8e20e-f7c9-4921-8a01-fceb8ed1a388",
   "metadata": {
    "tags": []
   },
   "outputs": [],
   "source": [
    "iqlm = hp.read_alm(os.path.join(massdir,'phi_sims_0000.fits'))\n",
    "qmap = hp.alm2map(iqlm,nside)\n",
    "iqlm = hp.map2alm(qmap,lmax=lmax_qlm)"
   ]
  },
  {
   "cell_type": "code",
   "execution_count": 17,
   "id": "c75e5521-3afe-4d49-be5d-ddec2e6e6423",
   "metadata": {
    "tags": []
   },
   "outputs": [
    {
     "name": "stderr",
     "output_type": "stream",
     "text": [
      "/pscratch/sd/l/lonappan/software_pkgs/cmblens/lib/python3.7/site-packages/ipykernel_launcher.py:1: RuntimeWarning: invalid value encountered in true_divide\n",
      "  \"\"\"Entry point for launching an IPython kernel.\n"
     ]
    },
    {
     "data": {
      "text/plain": [
       "(0.0, 300.0)"
      ]
     },
     "execution_count": 17,
     "metadata": {},
     "output_type": "execute_result"
    },
    {
     "data": {
      "image/png": "[encoded data removed]",
      "text/plain": [
       "<Figure size 432x288 with 1 Axes>"
      ]
     },
     "metadata": {
      "needs_background": "light"
     },
     "output_type": "display_data"
    }
   ],
   "source": [
    "plt.plot(hp.alm2cl(qlm_tt,iqlm)/np.sqrt(hp.alm2cl(qlm_tt)*hp.alm2cl(iqlm)))\n",
    "plt.xlim(0,300)"
   ]
  },
  {
   "cell_type": "code",
   "execution_count": 18,
   "id": "ae6c129b-fd87-44e6-80a9-79863c1eccb9",
   "metadata": {
    "tags": []
   },
   "outputs": [
    {
     "name": "stderr",
     "output_type": "stream",
     "text": [
      "/pscratch/sd/l/lonappan/software_pkgs/cmblens/lib/python3.7/site-packages/ipykernel_launcher.py:1: RuntimeWarning: invalid value encountered in true_divide\n",
      "  \"\"\"Entry point for launching an IPython kernel.\n"
     ]
    },
    {
     "data": {
      "text/plain": [
       "(0.0, 300.0)"
      ]
     },
     "execution_count": 18,
     "metadata": {},
     "output_type": "execute_result"
    },
    {
     "data": {
      "image/png": "[encoded data removed]",
      "text/plain": [
       "<Figure size 432x288 with 1 Axes>"
      ]
     },
     "metadata": {
      "needs_background": "light"
     },
     "output_type": "display_data"
    }
   ],
   "source": [
    "plt.plot(hp.alm2cl(qlm_pp,iqlm)/np.sqrt(hp.alm2cl(qlm_pp)*hp.alm2cl(iqlm)))\n",
    "plt.xlim(0,300)"
   ]
  },
  {
   "cell_type": "code",
   "execution_count": null,
   "id": "f2f48741-3436-4dcc-af90-e40eb4487ccb",
   "metadata": {},
   "outputs": [],
   "source": []
  }
 ],
 "metadata": {
  "kernelspec": {
   "display_name": "Pylens",
   "language": "python",
   "name": "cmblens"
  },
  "language_info": {
   "codemirror_mode": {
    "name": "ipython",
    "version": 3
   },
   "file_extension": ".py",
   "mimetype": "text/x-python",
   "name": "python",
   "nbconvert_exporter": "python",
   "pygments_lexer": "ipython3",
   "version": "3.7.2"
  }
 },
 "nbformat": 4,
 "nbformat_minor": 5
}
